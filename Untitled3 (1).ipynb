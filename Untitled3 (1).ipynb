{
  "nbformat": 4,
  "nbformat_minor": 0,
  "metadata": {
    "colab": {
      "name": "Untitled3.ipynb",
      "provenance": [],
      "collapsed_sections": []
    },
    "kernelspec": {
      "name": "python3",
      "display_name": "Python 3"
    },
    "language_info": {
      "name": "python"
    }
  },
  "cells": [
    {
      "cell_type": "code",
      "metadata": {
        "colab": {
          "base_uri": "https://localhost:8080/"
        },
        "id": "6v-wrt-QDlib",
        "outputId": "50c70d03-a394-4517-8f34-9495dadcedef"
      },
      "source": [
        "def max(x,y,z):\n",
        " if (x>y>z) or (x>z>y):\n",
        "   return(x)\n",
        " elif (y>z>x) or (y>x>z):\n",
        "   return(y)\n",
        " else:\n",
        "   return(z)\n",
        "max(3,4,5)\n",
        "   "
      ],
      "execution_count": null,
      "outputs": [
        {
          "output_type": "execute_result",
          "data": {
            "text/plain": [
              "5"
            ]
          },
          "metadata": {
            "tags": []
          },
          "execution_count": 7
        }
      ]
    },
    {
      "cell_type": "code",
      "metadata": {
        "colab": {
          "base_uri": "https://localhost:8080/"
        },
        "id": "KpEiSWjGcZFC",
        "outputId": "406ee7ff-48c4-47fe-aacf-fc7a770abd5d"
      },
      "source": [
        "def calculation(x,y):\n",
        "  s=x+y\n",
        "  t=x-y\n",
        "  return (s,t)\n",
        "calculation(5,4)"
      ],
      "execution_count": null,
      "outputs": [
        {
          "output_type": "execute_result",
          "data": {
            "text/plain": [
              "(9, 1)"
            ]
          },
          "metadata": {
            "tags": []
          },
          "execution_count": 14
        }
      ]
    },
    {
      "cell_type": "code",
      "metadata": {
        "colab": {
          "base_uri": "https://localhost:8080/"
        },
        "id": "ZuyvEUPxdKOt",
        "outputId": "4da34bde-282a-4ca9-b60b-72742f243f3b"
      },
      "source": [
        "def sum(liste):\n",
        "  s=0\n",
        "  for i in liste:\n",
        "    s=s+i\n",
        "  return s\n",
        "list1=[5,4,3]\n",
        "\n",
        "\n",
        "def multi(liste2):\n",
        "  p=1\n",
        "  for i in liste2:\n",
        "    p=p*i\n",
        "  return p\n",
        "new1 =[]\n",
        "for i in range(0,len(list1),2):\n",
        "  new1.append(list1[i])\n",
        "  print(sum(new1))\n",
        "\n",
        "new2 =[]\n",
        "for i in range(1,len(list1),2):\n",
        "    new2.append(list1[i])\n",
        "    print(multi(new2))\n",
        " \n",
        "\n",
        "\n",
        "\n",
        "\n",
        "   \n",
        "    \n",
        "\n"
      ],
      "execution_count": null,
      "outputs": [
        {
          "output_type": "stream",
          "text": [
            "5\n",
            "8\n",
            "4\n"
          ],
          "name": "stdout"
        }
      ]
    },
    {
      "cell_type": "code",
      "metadata": {
        "id": "GPCyAVuYsMe6"
      },
      "source": [
        "def ordre(my_str):\n",
        " words = my_str.split()   \n",
        " words.sort()    \n",
        "my_str = input(\"Enter a string: \") \n",
        "ordre(my_str) \n",
        "for word in words:  \n",
        "   print(word,end(\"-\"))\n",
        " \n",
        "  "
      ],
      "execution_count": null,
      "outputs": []
    },
    {
      "cell_type": "code",
      "metadata": {
        "colab": {
          "base_uri": "https://localhost:8080/"
        },
        "id": "kJx0i_pptwQX",
        "outputId": "4e330410-3dab-4d51-8ad1-44361b9b2f7f"
      },
      "source": [
        "import math  \n",
        "n=input(\"entrez  des valeurs\") \n",
        "list=n.split(\",\")\n",
        "list1=[]\n",
        "for i in range(3):\n",
        " list1.append(int(list[i]))\n",
        " r=map(lambda n: math.sqrt((2*50*n)/30),list1)\n",
        "for i in r:\n",
        " print(int(i),\"-\",end=\" \")\n",
        "  \n",
        "\n"
      ],
      "execution_count": 75,
      "outputs": [
        {
          "output_type": "stream",
          "text": [
            "entrez  des valeurs100,150,200\n",
            "18 - 22 - 25 - "
          ],
          "name": "stdout"
        }
      ]
    },
    {
      "cell_type": "code",
      "metadata": {
        "id": "Dd0H3gIXoWfP"
      },
      "source": [
        ""
      ],
      "execution_count": 54,
      "outputs": []
    }
  ]
}